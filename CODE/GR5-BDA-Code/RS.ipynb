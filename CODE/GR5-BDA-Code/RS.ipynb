{
  "cells": [
    {
      "cell_type": "code",
      "execution_count": 2,
      "metadata": {
        "id": "8kSFdKlaEQp-"
      },
      "outputs": [],
      "source": [
        "import numpy as np\n",
        "import pandas as pd\n",
        "from sklearn.feature_extraction.text import TfidfVectorizer\n",
        "from sklearn.linear_model import LogisticRegression\n",
        "from sklearn.metrics.pairwise import cosine_similarity"
      ]
    },
    {
      "cell_type": "code",
      "source": [
        "!pip install --upgrade gdown"
      ],
      "metadata": {
        "colab": {
          "base_uri": "https://localhost:8080/"
        },
        "id": "AtUV0hmwEWJF",
        "outputId": "fab7f4cc-b067-40b4-97ae-4ef047ae4b67"
      },
      "execution_count": 1,
      "outputs": [
        {
          "output_type": "stream",
          "name": "stdout",
          "text": [
            "Requirement already satisfied: gdown in /usr/local/lib/python3.10/dist-packages (4.7.3)\n",
            "Collecting gdown\n",
            "  Downloading gdown-5.1.0-py3-none-any.whl (17 kB)\n",
            "Requirement already satisfied: beautifulsoup4 in /usr/local/lib/python3.10/dist-packages (from gdown) (4.12.3)\n",
            "Requirement already satisfied: filelock in /usr/local/lib/python3.10/dist-packages (from gdown) (3.13.3)\n",
            "Requirement already satisfied: requests[socks] in /usr/local/lib/python3.10/dist-packages (from gdown) (2.31.0)\n",
            "Requirement already satisfied: tqdm in /usr/local/lib/python3.10/dist-packages (from gdown) (4.66.2)\n",
            "Requirement already satisfied: soupsieve>1.2 in /usr/local/lib/python3.10/dist-packages (from beautifulsoup4->gdown) (2.5)\n",
            "Requirement already satisfied: charset-normalizer<4,>=2 in /usr/local/lib/python3.10/dist-packages (from requests[socks]->gdown) (3.3.2)\n",
            "Requirement already satisfied: idna<4,>=2.5 in /usr/local/lib/python3.10/dist-packages (from requests[socks]->gdown) (3.6)\n",
            "Requirement already satisfied: urllib3<3,>=1.21.1 in /usr/local/lib/python3.10/dist-packages (from requests[socks]->gdown) (2.0.7)\n",
            "Requirement already satisfied: certifi>=2017.4.17 in /usr/local/lib/python3.10/dist-packages (from requests[socks]->gdown) (2024.2.2)\n",
            "Requirement already satisfied: PySocks!=1.5.7,>=1.5.6 in /usr/local/lib/python3.10/dist-packages (from requests[socks]->gdown) (1.7.1)\n",
            "Installing collected packages: gdown\n",
            "  Attempting uninstall: gdown\n",
            "    Found existing installation: gdown 4.7.3\n",
            "    Uninstalling gdown-4.7.3:\n",
            "      Successfully uninstalled gdown-4.7.3\n",
            "Successfully installed gdown-5.1.0\n"
          ]
        }
      ]
    },
    {
      "cell_type": "code",
      "execution_count": 9,
      "metadata": {
        "colab": {
          "base_uri": "https://localhost:8080/"
        },
        "id": "kZd1e5BYEQqG",
        "outputId": "25187eb6-2fa6-4324-85bc-4dfaeb4c259c"
      },
      "outputs": [
        {
          "output_type": "stream",
          "name": "stdout",
          "text": [
            "Downloading...\n",
            "From (original): https://drive.google.com/uc?id=11V7fT7uCQdxVSmg9iWIpknDGK04TfPYRLal1IHkcu04\n",
            "From (redirected): https://docs.google.com/spreadsheets/d/11V7fT7uCQdxVSmg9iWIpknDGK04TfPYRLal1IHkcu04/export?format=xlsx\n",
            "To: /content/Recommend videos sample.xlsx\n",
            "\r0.00B [00:00, ?B/s]\r173kB [00:00, 2.83MB/s]\n"
          ]
        }
      ],
      "source": [
        "!gdown 11V7fT7uCQdxVSmg9iWIpknDGK04TfPYRLal1IHkcu04"
      ]
    },
    {
      "cell_type": "code",
      "execution_count": 11,
      "metadata": {
        "colab": {
          "base_uri": "https://localhost:8080/",
          "height": 293
        },
        "id": "h09wFOmlEQqH",
        "outputId": "43530044-2763-4c6f-b7ac-6bc2cad31a0e"
      },
      "outputs": [
        {
          "output_type": "execute_result",
          "data": {
            "text/plain": [
              "                                     Title_Description  View Count  \\\n",
              "995  Bach Study Music Playlist Instrumental Classic...     4352440   \n",
              "996  Working of institutions class full chapter Cla...     2641564   \n",
              "997  Saudi Arabia Introduces First Female Sara SAUD...      126202   \n",
              "998      Bouncing Seals Ultimate The seals are Blowout     6428417   \n",
              "999  Success Story Augmented Reality wayfinding wit...        2883   \n",
              "\n",
              "     Like Count                 Topic  \\\n",
              "995       33238                 Music   \n",
              "996       84615  NonProfit & Activism   \n",
              "997        1852  Science & Technology   \n",
              "998      123227               Animals   \n",
              "999          31  Science & Technology   \n",
              "\n",
              "                                                 Title  \\\n",
              "995  Bach Study Music Playlist 🎻 Instrumental Class...   \n",
              "996  Working of institutions class 9 full chapter (...   \n",
              "997  Saudi Arabia Introduces First Al-Powered Femal...   \n",
              "998                          Bouncing Seals Ultimate 2   \n",
              "999  Success Story Augmented Reality wayfinding wit...   \n",
              "\n",
              "                                                tokens  \\\n",
              "995  ['bach', 'study', 'music', 'playlist', 'instru...   \n",
              "996  ['working', 'institution', 'class', 'full', 'c...   \n",
              "997  ['saudi', 'arabia', 'introduces', 'first', 'fe...   \n",
              "998  ['bouncing', 'seal', 'ultimate', 'seal', 'blow...   \n",
              "999  ['success', 'story', 'augmented', 'reality', '...   \n",
              "\n",
              "                                           clean_title  \n",
              "995  bach study music playlist instrumental classic...  \n",
              "996  working institution class full chapter class c...  \n",
              "997  saudi arabia introduces first female sara saud...  \n",
              "998                bouncing seal ultimate seal blowout  \n",
              "999  success story augmented reality wayfinding vie...  "
            ],
            "text/html": [
              "\n",
              "  <div id=\"df-4ec7e31f-f376-4c8f-8e90-7ea6e2e207d2\" class=\"colab-df-container\">\n",
              "    <div>\n",
              "<style scoped>\n",
              "    .dataframe tbody tr th:only-of-type {\n",
              "        vertical-align: middle;\n",
              "    }\n",
              "\n",
              "    .dataframe tbody tr th {\n",
              "        vertical-align: top;\n",
              "    }\n",
              "\n",
              "    .dataframe thead th {\n",
              "        text-align: right;\n",
              "    }\n",
              "</style>\n",
              "<table border=\"1\" class=\"dataframe\">\n",
              "  <thead>\n",
              "    <tr style=\"text-align: right;\">\n",
              "      <th></th>\n",
              "      <th>Title_Description</th>\n",
              "      <th>View Count</th>\n",
              "      <th>Like Count</th>\n",
              "      <th>Topic</th>\n",
              "      <th>Title</th>\n",
              "      <th>tokens</th>\n",
              "      <th>clean_title</th>\n",
              "    </tr>\n",
              "  </thead>\n",
              "  <tbody>\n",
              "    <tr>\n",
              "      <th>995</th>\n",
              "      <td>Bach Study Music Playlist Instrumental Classic...</td>\n",
              "      <td>4352440</td>\n",
              "      <td>33238</td>\n",
              "      <td>Music</td>\n",
              "      <td>Bach Study Music Playlist 🎻 Instrumental Class...</td>\n",
              "      <td>['bach', 'study', 'music', 'playlist', 'instru...</td>\n",
              "      <td>bach study music playlist instrumental classic...</td>\n",
              "    </tr>\n",
              "    <tr>\n",
              "      <th>996</th>\n",
              "      <td>Working of institutions class full chapter Cla...</td>\n",
              "      <td>2641564</td>\n",
              "      <td>84615</td>\n",
              "      <td>NonProfit &amp; Activism</td>\n",
              "      <td>Working of institutions class 9 full chapter (...</td>\n",
              "      <td>['working', 'institution', 'class', 'full', 'c...</td>\n",
              "      <td>working institution class full chapter class c...</td>\n",
              "    </tr>\n",
              "    <tr>\n",
              "      <th>997</th>\n",
              "      <td>Saudi Arabia Introduces First Female Sara SAUD...</td>\n",
              "      <td>126202</td>\n",
              "      <td>1852</td>\n",
              "      <td>Science &amp; Technology</td>\n",
              "      <td>Saudi Arabia Introduces First Al-Powered Femal...</td>\n",
              "      <td>['saudi', 'arabia', 'introduces', 'first', 'fe...</td>\n",
              "      <td>saudi arabia introduces first female sara saud...</td>\n",
              "    </tr>\n",
              "    <tr>\n",
              "      <th>998</th>\n",
              "      <td>Bouncing Seals Ultimate The seals are Blowout</td>\n",
              "      <td>6428417</td>\n",
              "      <td>123227</td>\n",
              "      <td>Animals</td>\n",
              "      <td>Bouncing Seals Ultimate 2</td>\n",
              "      <td>['bouncing', 'seal', 'ultimate', 'seal', 'blow...</td>\n",
              "      <td>bouncing seal ultimate seal blowout</td>\n",
              "    </tr>\n",
              "    <tr>\n",
              "      <th>999</th>\n",
              "      <td>Success Story Augmented Reality wayfinding wit...</td>\n",
              "      <td>2883</td>\n",
              "      <td>31</td>\n",
              "      <td>Science &amp; Technology</td>\n",
              "      <td>Success Story Augmented Reality wayfinding wit...</td>\n",
              "      <td>['success', 'story', 'augmented', 'reality', '...</td>\n",
              "      <td>success story augmented reality wayfinding vie...</td>\n",
              "    </tr>\n",
              "  </tbody>\n",
              "</table>\n",
              "</div>\n",
              "    <div class=\"colab-df-buttons\">\n",
              "\n",
              "  <div class=\"colab-df-container\">\n",
              "    <button class=\"colab-df-convert\" onclick=\"convertToInteractive('df-4ec7e31f-f376-4c8f-8e90-7ea6e2e207d2')\"\n",
              "            title=\"Convert this dataframe to an interactive table.\"\n",
              "            style=\"display:none;\">\n",
              "\n",
              "  <svg xmlns=\"http://www.w3.org/2000/svg\" height=\"24px\" viewBox=\"0 -960 960 960\">\n",
              "    <path d=\"M120-120v-720h720v720H120Zm60-500h600v-160H180v160Zm220 220h160v-160H400v160Zm0 220h160v-160H400v160ZM180-400h160v-160H180v160Zm440 0h160v-160H620v160ZM180-180h160v-160H180v160Zm440 0h160v-160H620v160Z\"/>\n",
              "  </svg>\n",
              "    </button>\n",
              "\n",
              "  <style>\n",
              "    .colab-df-container {\n",
              "      display:flex;\n",
              "      gap: 12px;\n",
              "    }\n",
              "\n",
              "    .colab-df-convert {\n",
              "      background-color: #E8F0FE;\n",
              "      border: none;\n",
              "      border-radius: 50%;\n",
              "      cursor: pointer;\n",
              "      display: none;\n",
              "      fill: #1967D2;\n",
              "      height: 32px;\n",
              "      padding: 0 0 0 0;\n",
              "      width: 32px;\n",
              "    }\n",
              "\n",
              "    .colab-df-convert:hover {\n",
              "      background-color: #E2EBFA;\n",
              "      box-shadow: 0px 1px 2px rgba(60, 64, 67, 0.3), 0px 1px 3px 1px rgba(60, 64, 67, 0.15);\n",
              "      fill: #174EA6;\n",
              "    }\n",
              "\n",
              "    .colab-df-buttons div {\n",
              "      margin-bottom: 4px;\n",
              "    }\n",
              "\n",
              "    [theme=dark] .colab-df-convert {\n",
              "      background-color: #3B4455;\n",
              "      fill: #D2E3FC;\n",
              "    }\n",
              "\n",
              "    [theme=dark] .colab-df-convert:hover {\n",
              "      background-color: #434B5C;\n",
              "      box-shadow: 0px 1px 3px 1px rgba(0, 0, 0, 0.15);\n",
              "      filter: drop-shadow(0px 1px 2px rgba(0, 0, 0, 0.3));\n",
              "      fill: #FFFFFF;\n",
              "    }\n",
              "  </style>\n",
              "\n",
              "    <script>\n",
              "      const buttonEl =\n",
              "        document.querySelector('#df-4ec7e31f-f376-4c8f-8e90-7ea6e2e207d2 button.colab-df-convert');\n",
              "      buttonEl.style.display =\n",
              "        google.colab.kernel.accessAllowed ? 'block' : 'none';\n",
              "\n",
              "      async function convertToInteractive(key) {\n",
              "        const element = document.querySelector('#df-4ec7e31f-f376-4c8f-8e90-7ea6e2e207d2');\n",
              "        const dataTable =\n",
              "          await google.colab.kernel.invokeFunction('convertToInteractive',\n",
              "                                                    [key], {});\n",
              "        if (!dataTable) return;\n",
              "\n",
              "        const docLinkHtml = 'Like what you see? Visit the ' +\n",
              "          '<a target=\"_blank\" href=https://colab.research.google.com/notebooks/data_table.ipynb>data table notebook</a>'\n",
              "          + ' to learn more about interactive tables.';\n",
              "        element.innerHTML = '';\n",
              "        dataTable['output_type'] = 'display_data';\n",
              "        await google.colab.output.renderOutput(dataTable, element);\n",
              "        const docLink = document.createElement('div');\n",
              "        docLink.innerHTML = docLinkHtml;\n",
              "        element.appendChild(docLink);\n",
              "      }\n",
              "    </script>\n",
              "  </div>\n",
              "\n",
              "\n",
              "<div id=\"df-7078c6b2-539f-408e-9e7e-f6db6a05fee8\">\n",
              "  <button class=\"colab-df-quickchart\" onclick=\"quickchart('df-7078c6b2-539f-408e-9e7e-f6db6a05fee8')\"\n",
              "            title=\"Suggest charts\"\n",
              "            style=\"display:none;\">\n",
              "\n",
              "<svg xmlns=\"http://www.w3.org/2000/svg\" height=\"24px\"viewBox=\"0 0 24 24\"\n",
              "     width=\"24px\">\n",
              "    <g>\n",
              "        <path d=\"M19 3H5c-1.1 0-2 .9-2 2v14c0 1.1.9 2 2 2h14c1.1 0 2-.9 2-2V5c0-1.1-.9-2-2-2zM9 17H7v-7h2v7zm4 0h-2V7h2v10zm4 0h-2v-4h2v4z\"/>\n",
              "    </g>\n",
              "</svg>\n",
              "  </button>\n",
              "\n",
              "<style>\n",
              "  .colab-df-quickchart {\n",
              "      --bg-color: #E8F0FE;\n",
              "      --fill-color: #1967D2;\n",
              "      --hover-bg-color: #E2EBFA;\n",
              "      --hover-fill-color: #174EA6;\n",
              "      --disabled-fill-color: #AAA;\n",
              "      --disabled-bg-color: #DDD;\n",
              "  }\n",
              "\n",
              "  [theme=dark] .colab-df-quickchart {\n",
              "      --bg-color: #3B4455;\n",
              "      --fill-color: #D2E3FC;\n",
              "      --hover-bg-color: #434B5C;\n",
              "      --hover-fill-color: #FFFFFF;\n",
              "      --disabled-bg-color: #3B4455;\n",
              "      --disabled-fill-color: #666;\n",
              "  }\n",
              "\n",
              "  .colab-df-quickchart {\n",
              "    background-color: var(--bg-color);\n",
              "    border: none;\n",
              "    border-radius: 50%;\n",
              "    cursor: pointer;\n",
              "    display: none;\n",
              "    fill: var(--fill-color);\n",
              "    height: 32px;\n",
              "    padding: 0;\n",
              "    width: 32px;\n",
              "  }\n",
              "\n",
              "  .colab-df-quickchart:hover {\n",
              "    background-color: var(--hover-bg-color);\n",
              "    box-shadow: 0 1px 2px rgba(60, 64, 67, 0.3), 0 1px 3px 1px rgba(60, 64, 67, 0.15);\n",
              "    fill: var(--button-hover-fill-color);\n",
              "  }\n",
              "\n",
              "  .colab-df-quickchart-complete:disabled,\n",
              "  .colab-df-quickchart-complete:disabled:hover {\n",
              "    background-color: var(--disabled-bg-color);\n",
              "    fill: var(--disabled-fill-color);\n",
              "    box-shadow: none;\n",
              "  }\n",
              "\n",
              "  .colab-df-spinner {\n",
              "    border: 2px solid var(--fill-color);\n",
              "    border-color: transparent;\n",
              "    border-bottom-color: var(--fill-color);\n",
              "    animation:\n",
              "      spin 1s steps(1) infinite;\n",
              "  }\n",
              "\n",
              "  @keyframes spin {\n",
              "    0% {\n",
              "      border-color: transparent;\n",
              "      border-bottom-color: var(--fill-color);\n",
              "      border-left-color: var(--fill-color);\n",
              "    }\n",
              "    20% {\n",
              "      border-color: transparent;\n",
              "      border-left-color: var(--fill-color);\n",
              "      border-top-color: var(--fill-color);\n",
              "    }\n",
              "    30% {\n",
              "      border-color: transparent;\n",
              "      border-left-color: var(--fill-color);\n",
              "      border-top-color: var(--fill-color);\n",
              "      border-right-color: var(--fill-color);\n",
              "    }\n",
              "    40% {\n",
              "      border-color: transparent;\n",
              "      border-right-color: var(--fill-color);\n",
              "      border-top-color: var(--fill-color);\n",
              "    }\n",
              "    60% {\n",
              "      border-color: transparent;\n",
              "      border-right-color: var(--fill-color);\n",
              "    }\n",
              "    80% {\n",
              "      border-color: transparent;\n",
              "      border-right-color: var(--fill-color);\n",
              "      border-bottom-color: var(--fill-color);\n",
              "    }\n",
              "    90% {\n",
              "      border-color: transparent;\n",
              "      border-bottom-color: var(--fill-color);\n",
              "    }\n",
              "  }\n",
              "</style>\n",
              "\n",
              "  <script>\n",
              "    async function quickchart(key) {\n",
              "      const quickchartButtonEl =\n",
              "        document.querySelector('#' + key + ' button');\n",
              "      quickchartButtonEl.disabled = true;  // To prevent multiple clicks.\n",
              "      quickchartButtonEl.classList.add('colab-df-spinner');\n",
              "      try {\n",
              "        const charts = await google.colab.kernel.invokeFunction(\n",
              "            'suggestCharts', [key], {});\n",
              "      } catch (error) {\n",
              "        console.error('Error during call to suggestCharts:', error);\n",
              "      }\n",
              "      quickchartButtonEl.classList.remove('colab-df-spinner');\n",
              "      quickchartButtonEl.classList.add('colab-df-quickchart-complete');\n",
              "    }\n",
              "    (() => {\n",
              "      let quickchartButtonEl =\n",
              "        document.querySelector('#df-7078c6b2-539f-408e-9e7e-f6db6a05fee8 button');\n",
              "      quickchartButtonEl.style.display =\n",
              "        google.colab.kernel.accessAllowed ? 'block' : 'none';\n",
              "    })();\n",
              "  </script>\n",
              "</div>\n",
              "\n",
              "    </div>\n",
              "  </div>\n"
            ],
            "application/vnd.google.colaboratory.intrinsic+json": {
              "type": "dataframe",
              "summary": "{\n  \"name\": \"recommend_data\",\n  \"rows\": 5,\n  \"fields\": [\n    {\n      \"column\": \"Title_Description\",\n      \"properties\": {\n        \"dtype\": \"string\",\n        \"num_unique_values\": 5,\n        \"samples\": [\n          \"Working of institutions class full chapter Class Civics Chapter CBSE NCERT Working of institutions class CBSE full chapter of Civics in Animation CBSE NCERT other channels links Sunlike study\",\n          \"Success Story Augmented Reality wayfinding with VIEWAR in the Herning Library VIEWAR is used by The Herning Library in Denmark for indoor To provide innovative wayfinding technology at the\",\n          \"Saudi Arabia Introduces First Female Sara SAUDI ARABIA has made a big leap in the field of robotics with the introduction of its first female social humanoid robot named\"\n        ],\n        \"semantic_type\": \"\",\n        \"description\": \"\"\n      }\n    },\n    {\n      \"column\": \"View Count\",\n      \"properties\": {\n        \"dtype\": \"number\",\n        \"std\": 2762852,\n        \"min\": 2883,\n        \"max\": 6428417,\n        \"num_unique_values\": 5,\n        \"samples\": [\n          2641564,\n          2883,\n          126202\n        ],\n        \"semantic_type\": \"\",\n        \"description\": \"\"\n      }\n    },\n    {\n      \"column\": \"Like Count\",\n      \"properties\": {\n        \"dtype\": \"number\",\n        \"std\": 53959,\n        \"min\": 31,\n        \"max\": 123227,\n        \"num_unique_values\": 5,\n        \"samples\": [\n          84615,\n          31,\n          1852\n        ],\n        \"semantic_type\": \"\",\n        \"description\": \"\"\n      }\n    },\n    {\n      \"column\": \"Topic\",\n      \"properties\": {\n        \"dtype\": \"string\",\n        \"num_unique_values\": 4,\n        \"samples\": [\n          \"NonProfit & Activism\",\n          \"Animals\",\n          \"Music\"\n        ],\n        \"semantic_type\": \"\",\n        \"description\": \"\"\n      }\n    },\n    {\n      \"column\": \"Title\",\n      \"properties\": {\n        \"dtype\": \"string\",\n        \"num_unique_values\": 5,\n        \"samples\": [\n          \"Working of institutions class 9 full chapter (Animation) | Class 9 Civics Chapter 4 | CBSE | NCERT\",\n          \"Success Story Augmented Reality wayfinding with VIEWAR in the Herning Library\",\n          \"Saudi Arabia Introduces First Al-Powered Female Robot, Sara\"\n        ],\n        \"semantic_type\": \"\",\n        \"description\": \"\"\n      }\n    },\n    {\n      \"column\": \"tokens\",\n      \"properties\": {\n        \"dtype\": \"string\",\n        \"num_unique_values\": 5,\n        \"samples\": [\n          \"['working', 'institution', 'class', 'full', 'chapter', 'class', 'civics', 'chapter', 'cbse', 'ncert', 'working', 'institution', 'class', 'cbse', 'full', 'chapter', 'civics', 'animation', 'cbse', 'ncert', 'channel', 'link', 'sunlike', 'study']\",\n          \"['success', 'story', 'augmented', 'reality', 'wayfinding', 'viewar', 'herning', 'library', 'viewar', 'used', 'herning', 'library', 'denmark', 'indoor', 'provide', 'innovative', 'wayfinding', 'technology']\",\n          \"['saudi', 'arabia', 'introduces', 'first', 'female', 'sara', 'saudi', 'arabia', 'ha', 'made', 'big', 'leap', 'field', 'robotics', 'introduction', 'first', 'female', 'social', 'humanoid', 'robot', 'named']\"\n        ],\n        \"semantic_type\": \"\",\n        \"description\": \"\"\n      }\n    },\n    {\n      \"column\": \"clean_title\",\n      \"properties\": {\n        \"dtype\": \"string\",\n        \"num_unique_values\": 5,\n        \"samples\": [\n          \"working institution class full chapter class civics chapter cbse ncert working institution class cbse full chapter civics animation cbse ncert channel link sunlike study\",\n          \"success story augmented reality wayfinding viewar herning library viewar used herning library denmark indoor provide innovative wayfinding technology\",\n          \"saudi arabia introduces first female sara saudi arabia ha made big leap field robotics introduction first female social humanoid robot named\"\n        ],\n        \"semantic_type\": \"\",\n        \"description\": \"\"\n      }\n    }\n  ]\n}"
            }
          },
          "metadata": {},
          "execution_count": 11
        }
      ],
      "source": [
        "rcm_path = r'Recommend videos sample.xlsx'\n",
        "recommend_data = pd.read_excel(rcm_path)\n",
        "recommend_data.tail()"
      ]
    },
    {
      "cell_type": "code",
      "execution_count": 12,
      "metadata": {
        "id": "92bswJWmEQqJ"
      },
      "outputs": [],
      "source": [
        "video = recommend_data['clean_title']\n",
        "topic = recommend_data['Topic']\n",
        "tokens = recommend_data['tokens']\n",
        "re_title = recommend_data['Title']\n",
        "dataset_videos = video.tolist()"
      ]
    },
    {
      "cell_type": "code",
      "execution_count": 13,
      "metadata": {
        "id": "B-FbP5Y0EQqL"
      },
      "outputs": [],
      "source": [
        "recommend_df = recommend_data[['clean_title', 'Topic']].copy()\n",
        "recommend_df.dropna(inplace=True)\n",
        "dataset_videos = recommend_df['clean_title'].tolist()\n",
        "topic = recommend_df['Topic']"
      ]
    },
    {
      "cell_type": "code",
      "execution_count": 14,
      "metadata": {
        "colab": {
          "base_uri": "https://localhost:8080/",
          "height": 75
        },
        "id": "v_MBjItMEQqM",
        "outputId": "008087ca-c216-417a-b8f5-031aeaeb71c7"
      },
      "outputs": [
        {
          "output_type": "execute_result",
          "data": {
            "text/plain": [
              "LogisticRegression()"
            ],
            "text/html": [
              "<style>#sk-container-id-1 {color: black;background-color: white;}#sk-container-id-1 pre{padding: 0;}#sk-container-id-1 div.sk-toggleable {background-color: white;}#sk-container-id-1 label.sk-toggleable__label {cursor: pointer;display: block;width: 100%;margin-bottom: 0;padding: 0.3em;box-sizing: border-box;text-align: center;}#sk-container-id-1 label.sk-toggleable__label-arrow:before {content: \"▸\";float: left;margin-right: 0.25em;color: #696969;}#sk-container-id-1 label.sk-toggleable__label-arrow:hover:before {color: black;}#sk-container-id-1 div.sk-estimator:hover label.sk-toggleable__label-arrow:before {color: black;}#sk-container-id-1 div.sk-toggleable__content {max-height: 0;max-width: 0;overflow: hidden;text-align: left;background-color: #f0f8ff;}#sk-container-id-1 div.sk-toggleable__content pre {margin: 0.2em;color: black;border-radius: 0.25em;background-color: #f0f8ff;}#sk-container-id-1 input.sk-toggleable__control:checked~div.sk-toggleable__content {max-height: 200px;max-width: 100%;overflow: auto;}#sk-container-id-1 input.sk-toggleable__control:checked~label.sk-toggleable__label-arrow:before {content: \"▾\";}#sk-container-id-1 div.sk-estimator input.sk-toggleable__control:checked~label.sk-toggleable__label {background-color: #d4ebff;}#sk-container-id-1 div.sk-label input.sk-toggleable__control:checked~label.sk-toggleable__label {background-color: #d4ebff;}#sk-container-id-1 input.sk-hidden--visually {border: 0;clip: rect(1px 1px 1px 1px);clip: rect(1px, 1px, 1px, 1px);height: 1px;margin: -1px;overflow: hidden;padding: 0;position: absolute;width: 1px;}#sk-container-id-1 div.sk-estimator {font-family: monospace;background-color: #f0f8ff;border: 1px dotted black;border-radius: 0.25em;box-sizing: border-box;margin-bottom: 0.5em;}#sk-container-id-1 div.sk-estimator:hover {background-color: #d4ebff;}#sk-container-id-1 div.sk-parallel-item::after {content: \"\";width: 100%;border-bottom: 1px solid gray;flex-grow: 1;}#sk-container-id-1 div.sk-label:hover label.sk-toggleable__label {background-color: #d4ebff;}#sk-container-id-1 div.sk-serial::before {content: \"\";position: absolute;border-left: 1px solid gray;box-sizing: border-box;top: 0;bottom: 0;left: 50%;z-index: 0;}#sk-container-id-1 div.sk-serial {display: flex;flex-direction: column;align-items: center;background-color: white;padding-right: 0.2em;padding-left: 0.2em;position: relative;}#sk-container-id-1 div.sk-item {position: relative;z-index: 1;}#sk-container-id-1 div.sk-parallel {display: flex;align-items: stretch;justify-content: center;background-color: white;position: relative;}#sk-container-id-1 div.sk-item::before, #sk-container-id-1 div.sk-parallel-item::before {content: \"\";position: absolute;border-left: 1px solid gray;box-sizing: border-box;top: 0;bottom: 0;left: 50%;z-index: -1;}#sk-container-id-1 div.sk-parallel-item {display: flex;flex-direction: column;z-index: 1;position: relative;background-color: white;}#sk-container-id-1 div.sk-parallel-item:first-child::after {align-self: flex-end;width: 50%;}#sk-container-id-1 div.sk-parallel-item:last-child::after {align-self: flex-start;width: 50%;}#sk-container-id-1 div.sk-parallel-item:only-child::after {width: 0;}#sk-container-id-1 div.sk-dashed-wrapped {border: 1px dashed gray;margin: 0 0.4em 0.5em 0.4em;box-sizing: border-box;padding-bottom: 0.4em;background-color: white;}#sk-container-id-1 div.sk-label label {font-family: monospace;font-weight: bold;display: inline-block;line-height: 1.2em;}#sk-container-id-1 div.sk-label-container {text-align: center;}#sk-container-id-1 div.sk-container {/* jupyter's `normalize.less` sets `[hidden] { display: none; }` but bootstrap.min.css set `[hidden] { display: none !important; }` so we also need the `!important` here to be able to override the default hidden behavior on the sphinx rendered scikit-learn.org. See: https://github.com/scikit-learn/scikit-learn/issues/21755 */display: inline-block !important;position: relative;}#sk-container-id-1 div.sk-text-repr-fallback {display: none;}</style><div id=\"sk-container-id-1\" class=\"sk-top-container\"><div class=\"sk-text-repr-fallback\"><pre>LogisticRegression()</pre><b>In a Jupyter environment, please rerun this cell to show the HTML representation or trust the notebook. <br />On GitHub, the HTML representation is unable to render, please try loading this page with nbviewer.org.</b></div><div class=\"sk-container\" hidden><div class=\"sk-item\"><div class=\"sk-estimator sk-toggleable\"><input class=\"sk-toggleable__control sk-hidden--visually\" id=\"sk-estimator-id-1\" type=\"checkbox\" checked><label for=\"sk-estimator-id-1\" class=\"sk-toggleable__label sk-toggleable__label-arrow\">LogisticRegression</label><div class=\"sk-toggleable__content\"><pre>LogisticRegression()</pre></div></div></div></div></div>"
            ]
          },
          "metadata": {},
          "execution_count": 14
        }
      ],
      "source": [
        "# Tạo và cấu hình vectorizer\n",
        "vectorizer = TfidfVectorizer(max_features=1000, stop_words='english')\n",
        "vectorizer.fit(dataset_videos)\n",
        "\n",
        "classifier = LogisticRegression()\n",
        "classifier.fit(vectorizer.transform(dataset_videos), topic)"
      ]
    },
    {
      "cell_type": "code",
      "execution_count": 15,
      "metadata": {
        "id": "KFBIMPM9EQqO"
      },
      "outputs": [],
      "source": [
        "def classify_video_title(title, classifier, vectorizer):\n",
        "    # Transform the title into a feature vector\n",
        "    title_vector = vectorizer.transform([title])\n",
        "    # Predict the label using the classifier model\n",
        "    predicted_label = classifier.predict(title_vector)[0]\n",
        "    return predicted_label"
      ]
    },
    {
      "cell_type": "code",
      "execution_count": 16,
      "metadata": {
        "id": "6edwc4EtEQqP"
      },
      "outputs": [],
      "source": [
        "def compute_similarity(title, videos, labels, predicted_label, vectorizer, recommended_title):\n",
        "    same_label_indices = [i for i, label in enumerate(labels) if label == predicted_label]\n",
        "    same_label_videos = videos.iloc[same_label_indices].dropna().tolist()\n",
        "    same_label_parameters = recommended_title.iloc[same_label_indices]\n",
        "\n",
        "    title_vector = vectorizer.transform([title])\n",
        "    same_label_vectors = vectorizer.transform(same_label_videos)\n",
        "\n",
        "    similarities = cosine_similarity(title_vector, same_label_vectors)\n",
        "\n",
        "    top_indices = np.argsort(similarities.flatten())[-5:]\n",
        "    top_videos = same_label_parameters.iloc[top_indices]\n",
        "    return top_videos"
      ]
    },
    {
      "cell_type": "code",
      "execution_count": 17,
      "metadata": {
        "colab": {
          "base_uri": "https://localhost:8080/"
        },
        "id": "Nu0oMo9SEQqQ",
        "outputId": "9b4557be-99d2-459c-af10-741ee14d6262"
      },
      "outputs": [
        {
          "output_type": "stream",
          "name": "stdout",
          "text": [
            "Nhập đoạn văn cần phân loại: ádafsdfasfasdassdbajsgdgjasdg\n",
            "Video thuộc topic: Sports\n",
            "Gợi ý 5 video có độ tương đồng cao nhất:\n",
            "  1. I Watched Messi Win The World Cup LIVE\n",
            "  2. Cricket Run out😍 whatsapp status || Indian cricket status || Cricket status 🌹Awesome #Cricket#Short\n",
            "  3. Part-2 | Entry On Wwe Theme Song 🤣 #shorts\n",
            "  4. Camera Man Beats Olympic Runners in a 10k Race!!! #shorts\n",
            "  5. বাঙালি 🎇 ছেলের পায়ের 🔥অসাধারণ 😯 গোল ⚽ #messifootball #vairalvideo #bangal #football #volleyball\n"
          ]
        }
      ],
      "source": [
        "# Người dùng nhập tựa đề video\n",
        "user_input = input('Nhập đoạn văn cần phân loại: ')\n",
        "\n",
        "# Phân loại tựa đề video\n",
        "predicted_label = classify_video_title(user_input, classifier, vectorizer)\n",
        "\n",
        "# Tính độ tương đồng và gợi ý video\n",
        "recommended_videos = compute_similarity(user_input, recommend_df['clean_title'], topic , predicted_label, vectorizer, re_title )\n",
        "\n",
        "\n",
        "# Hiển thị kết quả gợi ý\n",
        "print('Video thuộc topic:', predicted_label)\n",
        "print('Gợi ý 5 video có độ tương đồng cao nhất:')\n",
        "for i, video in enumerate(recommended_videos, 1):\n",
        "    print(f'  {i}. {video}')"
      ]
    },
    {
      "cell_type": "code",
      "execution_count": null,
      "metadata": {
        "id": "txavco9pEQqR"
      },
      "outputs": [],
      "source": []
    }
  ],
  "metadata": {
    "kernelspec": {
      "display_name": "Python 3",
      "language": "python",
      "name": "python3"
    },
    "language_info": {
      "codemirror_mode": {
        "name": "ipython",
        "version": 3
      },
      "file_extension": ".py",
      "mimetype": "text/x-python",
      "name": "python",
      "nbconvert_exporter": "python",
      "pygments_lexer": "ipython3",
      "version": "3.11.0"
    },
    "colab": {
      "provenance": []
    }
  },
  "nbformat": 4,
  "nbformat_minor": 0
}